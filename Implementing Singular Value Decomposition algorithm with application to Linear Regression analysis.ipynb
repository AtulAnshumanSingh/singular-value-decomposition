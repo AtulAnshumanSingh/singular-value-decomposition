{
 "cells": [
  {
   "cell_type": "markdown",
   "metadata": {},
   "source": [
    "# Implementing Singular Value Decomposition algorithm with application to Linear Regression analysis"
   ]
  },
  {
   "cell_type": "markdown",
   "metadata": {},
   "source": [
    "Routines in this implemetation are based on discussions given in [1], which are themselves based on algorithm by Golub and Kahan ([2]) and its implementation presented in [3] by Golub and Reinsch.  \n",
    "\n",
    "This implemention is still in development, since I aim to make it free of any external package dependancy. Numpy and matplotlib have been used only for matrix multiplication and plotting. More features would be added to this implemention to make it more robust.\n",
    "\n",
    "Essentially, this algorithm first reduces the matrix to an upper-bidiagonal matrix by application of **Householder reduction**. Then upper-bidiagonal matrix is reduced to a diagonal matrix by iterative application of **QR decomposition**. Diagonals of the matrix so obtained are singular values of the matrix.  \n",
    "\n",
    "SVD so obtained is further used to calculate pseudo-inverse in the Linear Regression analysis. \n",
    "\n",
    "\n",
    "**_References_**\n",
    "\n",
    "[1] Stewart, Gilbert W. Matrix Algorithms: Volume II: Eigensystems. Society for Industrial and Applied Mathematics, 2001.\n",
    "\n",
    "[2] Golub, Gene, and William Kahan. \"Calculating the singular values and pseudo-inverse of a matrix.\" Journal of the Society for Industrial and Applied Mathematics, Series B: Numerical Analysis 2.2 (1965): 205-224.\n",
    "\n",
    "[3] Golub, Gene H., and Christian Reinsch. \"Singular value decomposition and least squares solutions.\" Numerische mathematik 14.5 (1970): 403-420."
   ]
  },
  {
   "cell_type": "code",
   "execution_count": 1,
   "metadata": {},
   "outputs": [],
   "source": [
    "import numpy as np \n",
    "import matplotlib.pyplot as plt                                "
   ]
  },
  {
   "cell_type": "code",
   "execution_count": 2,
   "metadata": {
    "collapsed": true
   },
   "outputs": [],
   "source": [
    "%matplotlib inline"
   ]
  },
  {
   "cell_type": "code",
   "execution_count": 4,
   "metadata": {},
   "outputs": [],
   "source": [
    "def housegen(a):\n",
    "    u=a\n",
    "    v=np.linalg.norm(a)\n",
    "    if v==0:\n",
    "        u[0]=np.sqrt(2)\n",
    "        return u,v\n",
    "    elif(u[0]!=0):\n",
    "        rho=u[0]/abs(u[0])\n",
    "    else:\n",
    "        rho=1\n",
    "\n",
    "    u=np.multiply((rho/v),u)\n",
    "    u[0]=1+u[0]\n",
    "    u=u/np.sqrt(u[0])\n",
    "    v=-rho*v\n",
    "    return u,v    "
   ]
  },
  {
   "cell_type": "code",
   "execution_count": 5,
   "metadata": {},
   "outputs": [],
   "source": [
    "def BiReduce(X,m,n):\n",
    "    d=np.matrix(np.zeros((1,n)))\n",
    "    e=np.matrix(np.zeros((1,n)))\n",
    "    for k in range(0,n):\n",
    "        if(k<n):\n",
    "            a,d[0,k]=housegen(X[k:m,k])\n",
    "            X[k:m,k]=a\n",
    "            b=a.T*X[k:m,k+1:n]\n",
    "            X[k:m,k+1:n]=X[k:m,k+1:n]-a*b\n",
    "        \n",
    "        if(k<n-2):\n",
    "            b,e[0,k]=housegen(X[k,k+1:n].T)\n",
    "            X[k,k+1:n]=b.T\n",
    "            a=X[k+1:m,k+1:n]*b\n",
    "            X[k+1:m,k+1:n]=X[k+1:m,k+1:n]-a*b.T\n",
    "    e[0,n-2]=X[n-2,n-1]\n",
    "    U=np.matrix(np.diag(np.ones(m)))\n",
    "    for k in range(min(n-1,m-1),-1,-1):\n",
    "        a=X[k:,k]\n",
    "        b=a.T*U[k:m,k:n]\n",
    "        U[k:m,k:n]=U[k:m,k:n]-a*b\n",
    "    \n",
    "    V=np.matrix(np.diag(np.ones(n)))\n",
    "    for k in range(n-3,-1,-1):\n",
    "        b=X[k,k+1:n].T\n",
    "        a=b.T*V[k+1:n,k+1:n]\n",
    "        V[k+1:n,k+1:n]=V[k+1:n,k+1:n]-b*a\n",
    "    return e,d,U,V"
   ]
  },
  {
   "cell_type": "code",
   "execution_count": 6,
   "metadata": {},
   "outputs": [],
   "source": [
    "def rotgen(a,b):\n",
    "    if(b==0):\n",
    "        c=1\n",
    "        s=0\n",
    "        return c,s\n",
    "    if(a==0):\n",
    "        c=0\n",
    "        s=1\n",
    "        a=b\n",
    "        b=0\n",
    "        return c,s\n",
    "    u=a/abs(a)\n",
    "    tau=abs(a)+abs(b)\n",
    "    eta=tau*(np.sqrt((a/tau)*(a/tau)+(b/tau)*(b/tau)))\n",
    "    c=abs(a)/eta\n",
    "    s=u*(b/eta)\n",
    "    a=eta*u\n",
    "    b=0\n",
    "    return c,s"
   ]
  },
  {
   "cell_type": "code",
   "execution_count": 7,
   "metadata": {
    "collapsed": true
   },
   "outputs": [],
   "source": [
    "def rotapp(c,s,x,y):\n",
    "    t=c*x+s*y\n",
    "    y=c*y-s*x\n",
    "    x=t\n",
    "    return x,y"
   ]
  },
  {
   "cell_type": "code",
   "execution_count": 8,
   "metadata": {},
   "outputs": [],
   "source": [
    "def BiQR(d,e,sigma,i1,i2,U,V):\n",
    "    scl=max(d[0,i1],e[0,i1],sigma)\n",
    "    dl=d[0,i1]/scl\n",
    "    el=e[0,i1]/scl\n",
    "    sig=sigma/scl\n",
    "    f=(dl+sig)*(dl-sig)\n",
    "    g=dl*el\n",
    "    for k in range(i1,i2):\n",
    "        c,s=rotgen(f,g)\n",
    "        if k!=i1:\n",
    "            e[0,k-1]=f\n",
    "        f=c*d[0,k]+s*e[0,k]\n",
    "        e[0,k]=c*e[0,k]-s*d[0,k]\n",
    "        g=s*d[0,k+1]\n",
    "        d[0,k+1]=c*d[0,k+1]\n",
    "        V[:,k],V[:,k+1]=rotapp(c,s,V[:,k],V[:,k+1])\n",
    "        c,s=rotgen(f,g)\n",
    "        d[0,k]=f\n",
    "        f=c*e[0,k]+s*d[0,k+1]\n",
    "        d[0,k+1]=c*d[0,k+1]-s*e[0,k]\n",
    "        if k<i2-1:\n",
    "            g=s*e[0,k+1]\n",
    "            e[0,k+1]=c*e[0,k+1]\n",
    "        U[:,k],U[:,k+1]=rotapp(c,s,U[:,k],U[:,k+1])\n",
    "    e[0,i2-2]=f \n",
    "    return d,e,U,V"
   ]
  },
  {
   "cell_type": "code",
   "execution_count": 9,
   "metadata": {
    "collapsed": true
   },
   "outputs": [],
   "source": [
    "def BdBackSearch(d,e,tol,l):\n",
    "    i2=l\n",
    "    i1=l\n",
    "    while i1>0:\n",
    "        if(i1==i2):\n",
    "            tau=d[0,i1]\n",
    "        elif(e[0,i1-1]!=0):\n",
    "            tau=d[0,i1]*(tau/(tau+abs(e[0,i1-1])))\n",
    "        \n",
    "        if abs(e[0,i1-1])<=tol*tau:\n",
    "            e[0,i1-1]=0\n",
    "            if(i1==i2):\n",
    "                i1=i1-1\n",
    "                i2=i1-1\n",
    "            else:\n",
    "                return\n",
    "        else:\n",
    "            i1=i1-1\n",
    "    return i1,i2 "
   ]
  },
  {
   "cell_type": "code",
   "execution_count": 10,
   "metadata": {
    "collapsed": true
   },
   "outputs": [],
   "source": [
    "def lm(X,Y,m,n,its):\n",
    "    X1=np.matrix(X)\n",
    "    e,d,U,V=BiReduce(X1,m,n)\n",
    "    p=d[0,n-2]\n",
    "    r=e[0,n-1]\n",
    "    q=d[0,n-1]\n",
    "    sigma_max=(np.sqrt((p+q)*(p+q)+r*r)+np.sqrt((p-q)*(p-q)+r*r))/2\n",
    "    sigma_min=abs(p*q)/sigma_max\n",
    "    i1,i2=BdBackSearch(d,e,0.0000000001,1)\n",
    "\n",
    "    for k in range(0,its):\n",
    "        d,e,U,V=BiQR(d,e,sigma_min,i1,i2,U,V)\n",
    "    SIG=np.matrix(np.vstack([np.diag([d[0,0],d[0,1]]),np.zeros((m-n,2))]))\n",
    "    for k in range(0,2):\n",
    "        if SIG[k,k]!=0:\n",
    "            SIG[k,k]=1/SIG[k,k]\n",
    "    x=V*SIG.T*U.T*Y\n",
    "    \n",
    "    return x"
   ]
  },
  {
   "cell_type": "code",
   "execution_count": 79,
   "metadata": {},
   "outputs": [],
   "source": [
    "def generate_MoG_data(num_data, means, covariances, weights):\n",
    "    \"\"\" Creates a list of data points \"\"\"\n",
    "    num_clusters = len(weights)\n",
    "    data = [\n",
    "    ]\n",
    "    for i in range(num_data):\n",
    "        k = np.random.choice(len(weights), 1, p=weights)[0]\n",
    "        x = np.random.multivariate_normal(means[k], covariances[k])\n",
    "        data.append(x)\n",
    "    return data\n",
    "\n",
    "\n",
    "init_means = [\n",
    "    [5, 0.9], # mean of cluster 1\n",
    "]\n",
    "init_covariances = [\n",
    "    [[.5, .1], [.1, .1]], # covariance of cluster 1\n",
    "]\n",
    "init_weights = [1]  # weights of each cluster\n",
    "\n",
    "# Generate data\n",
    "np.random.seed(4)\n",
    "data = generate_MoG_data(100, init_means, init_covariances, init_weights)\n",
    "data=np.array(data)\n",
    "X=np.hstack([np.matrix(np.ones(len(data[:,0]))).T,np.matrix(np.power(data[:,0],1)).T])\n",
    "Y=np.matrix(data[:,1]).T"
   ]
  },
  {
   "cell_type": "code",
   "execution_count": 68,
   "metadata": {},
   "outputs": [
    {
     "ename": "AttributeError",
     "evalue": "module 'numpy' has no attribute 'as_array'",
     "output_type": "error",
     "traceback": [
      "\u001b[1;31m---------------------------------------------------------------------------\u001b[0m",
      "\u001b[1;31mAttributeError\u001b[0m                            Traceback (most recent call last)",
      "\u001b[1;32m<ipython-input-68-062bde32afc8>\u001b[0m in \u001b[0;36m<module>\u001b[1;34m()\u001b[0m\n\u001b[1;32m----> 1\u001b[1;33m \u001b[0mx1\u001b[0m\u001b[1;33m=\u001b[0m \u001b[0mnp\u001b[0m\u001b[1;33m.\u001b[0m\u001b[0mas_array\u001b[0m\u001b[1;33m(\u001b[0m\u001b[0mX\u001b[0m\u001b[1;33m[\u001b[0m\u001b[1;33m:\u001b[0m\u001b[1;33m,\u001b[0m\u001b[1;36m1\u001b[0m\u001b[1;33m]\u001b[0m\u001b[1;33m)\u001b[0m\u001b[1;33m\u001b[0m\u001b[0m\n\u001b[0m",
      "\u001b[1;31mAttributeError\u001b[0m: module 'numpy' has no attribute 'as_array'"
     ]
    }
   ],
   "source": [
    "x1= np.as_array(X[:,1])"
   ]
  },
  {
   "cell_type": "code",
   "execution_count": 77,
   "metadata": {},
   "outputs": [
    {
     "data": {
      "text/plain": [
       "array([-0.06276753,  0.35214822, -0.3324741 , -0.36390736,  0.04815989,\n",
       "       -0.12652275,  0.08437836,  0.28673963, -0.78634671,  0.1780655 ,\n",
       "        0.47585599, -0.58070159, -0.05487721, -0.64230148, -0.49396256,\n",
       "        0.26018025, -0.37211731,  0.23749057, -0.18961552, -0.62596775,\n",
       "        0.23487779,  0.3915972 ,  0.25510147, -0.20819587,  0.61028945,\n",
       "        0.50898546,  0.33613891, -0.12707307, -0.20366713,  0.04031294,\n",
       "       -0.6479263 , -0.32113604,  0.17639741, -0.01796607, -0.18508884,\n",
       "        0.05231808,  0.19389855, -0.09543085,  0.48215199,  0.16307904,\n",
       "       -0.25366754, -0.34985746,  0.06648977, -0.27361708, -0.23187789,\n",
       "        0.16409576,  0.11238853, -0.11353813, -0.2529722 ,  0.17839586,\n",
       "       -0.07199892, -0.1553261 ,  0.03039918,  0.18808987, -0.06242348,\n",
       "        0.35512716, -0.27475452, -0.21568636, -0.08210631,  0.3074785 ,\n",
       "        0.00138975, -0.4674647 , -0.10511706, -0.07646123,  0.21287607,\n",
       "       -0.41664116, -0.22830739,  0.00568764, -0.07119528, -0.75998743,\n",
       "       -0.21559551,  0.06039908,  0.0811045 ,  0.10447658,  0.37352244,\n",
       "        0.80177924, -0.3239267 , -0.12383168, -0.2355816 , -0.22668517,\n",
       "        0.36790808,  0.67994162, -0.03756935,  0.50698075, -0.72839099,\n",
       "       -0.20276933, -0.05894416, -0.11844057, -0.30052119, -0.11970665,\n",
       "       -0.23235884, -0.1250928 , -0.06341538,  0.09440174,  0.12571663,\n",
       "       -0.15463335,  0.01799987,  0.35102292, -0.13359805, -0.07826781])"
      ]
     },
     "execution_count": 77,
     "metadata": {},
     "output_type": "execute_result"
    }
   ],
   "source": [
    "np.array(Y).flatten()"
   ]
  },
  {
   "cell_type": "code",
   "execution_count": 80,
   "metadata": {},
   "outputs": [
    {
     "data": {
      "text/plain": [
       "<matplotlib.collections.PathCollection at 0x11085f98>"
      ]
     },
     "execution_count": 80,
     "metadata": {},
     "output_type": "execute_result"
    },
    {
     "data": {
      "image/png": "[encoded data removed]",
      "text/plain": [
       "<matplotlib.figure.Figure at 0x120ad9e8>"
      ]
     },
     "metadata": {},
     "output_type": "display_data"
    }
   ],
   "source": [
    "plt.scatter(np.array(x1).flatten(), np.array(Y).flatten(),s=50)"
   ]
  },
  {
   "cell_type": "code",
   "execution_count": 65,
   "metadata": {},
   "outputs": [],
   "source": [
    "coeff=lm(X,Y,100,2,10)"
   ]
  },
  {
   "cell_type": "code",
   "execution_count": 82,
   "metadata": {
    "collapsed": true
   },
   "outputs": [],
   "source": [
    "from scipy import linalg"
   ]
  },
  {
   "cell_type": "code",
   "execution_count": 91,
   "metadata": {},
   "outputs": [],
   "source": [
    "coeff = linalg.inv(X.T*X)*(X.T*Y)"
   ]
  },
  {
   "cell_type": "code",
   "execution_count": 92,
   "metadata": {},
   "outputs": [
    {
     "data": {
      "image/png": "[encoded data removed]",
      "text/plain": [
       "<matplotlib.figure.Figure at 0x10ef2be0>"
      ]
     },
     "metadata": {},
     "output_type": "display_data"
    }
   ],
   "source": [
    "#Linear Regression\n",
    "xx = np.linspace(3.5, 7, 20)\n",
    "yy = np.array(coeff[0] + coeff[1]* np.power(xx,1) )\n",
    "plt.plot(xx, yy.T, color='r')\n",
    "plt.scatter(np.array(x1).flatten(), np.array(Y).flatten(),s=50)\n",
    "plt.show()"
   ]
  }
 ],
 "metadata": {
  "anaconda-cloud": {},
  "kernelspec": {
   "display_name": "Python 3",
   "language": "python",
   "name": "python3"
  },
  "language_info": {
   "codemirror_mode": {
    "name": "ipython",
    "version": 3
   },
   "file_extension": ".py",
   "mimetype": "text/x-python",
   "name": "python",
   "nbconvert_exporter": "python",
   "pygments_lexer": "ipython3",
   "version": "3.6.3"
  }
 },
 "nbformat": 4,
 "nbformat_minor": 1
}
